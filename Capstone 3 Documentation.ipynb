{
 "cells": [
  {
   "cell_type": "code",
   "execution_count": 2,
   "id": "7e659950-465f-417d-bf72-485419c5869d",
   "metadata": {},
   "outputs": [],
   "source": [
    "import pandas as pd\n",
    "import numpy as np\n",
    "import matplotlib.pyplot as plt\n",
    "\n",
    "from sklearn.model_selection import train_test_split\n",
    "from sklearn.preprocessing import OneHotEncoder, StandardScaler\n",
    "from sklearn.compose import ColumnTransformer\n",
    "from sklearn.metrics import (\n",
    "    accuracy_score, precision_score, recall_score, f1_score,\n",
    "    classification_report, confusion_matrix\n",
    ")\n",
    "from sklearn.linear_model import LogisticRegression\n",
    "from sklearn.ensemble import RandomForestClassifier\n",
    "\n",
    "# XGBoost (pip install xgboost if needed)\n",
    "from xgboost import XGBClassifier\n",
    "\n",
    "import seaborn as sns  # only for nicer plots; remove if you prefer pure matplotlib\n",
    "import joblib\n",
    "import os\n",
    "os.makedirs(\"figures\", exist_ok=True)"
   ]
  },
  {
   "cell_type": "code",
   "execution_count": 4,
   "id": "48c6fb85-a17e-4092-a287-1cc1e4538e35",
   "metadata": {},
   "outputs": [
    {
     "name": "stdout",
     "output_type": "stream",
     "text": [
      "(1367, 17)\n"
     ]
    },
    {
     "data": {
      "text/html": [
       "<div>\n",
       "<style scoped>\n",
       "    .dataframe tbody tr th:only-of-type {\n",
       "        vertical-align: middle;\n",
       "    }\n",
       "\n",
       "    .dataframe tbody tr th {\n",
       "        vertical-align: top;\n",
       "    }\n",
       "\n",
       "    .dataframe thead th {\n",
       "        text-align: right;\n",
       "    }\n",
       "</style>\n",
       "<table border=\"1\" class=\"dataframe\">\n",
       "  <thead>\n",
       "    <tr style=\"text-align: right;\">\n",
       "      <th></th>\n",
       "      <th>text_content</th>\n",
       "      <th>content_type</th>\n",
       "      <th>word_count</th>\n",
       "      <th>character_count</th>\n",
       "      <th>sentence_count</th>\n",
       "      <th>lexical_diversity</th>\n",
       "      <th>avg_sentence_length</th>\n",
       "      <th>avg_word_length</th>\n",
       "      <th>punctuation_ratio</th>\n",
       "      <th>flesch_reading_ease</th>\n",
       "      <th>gunning_fog_index</th>\n",
       "      <th>grammar_errors</th>\n",
       "      <th>passive_voice_ratio</th>\n",
       "      <th>predictability_score</th>\n",
       "      <th>burstiness</th>\n",
       "      <th>sentiment_score</th>\n",
       "      <th>label</th>\n",
       "    </tr>\n",
       "  </thead>\n",
       "  <tbody>\n",
       "    <tr>\n",
       "      <th>0</th>\n",
       "      <td>Score each cause. Quality throughout beautiful...</td>\n",
       "      <td>academic_paper</td>\n",
       "      <td>288</td>\n",
       "      <td>1927</td>\n",
       "      <td>54</td>\n",
       "      <td>0.9514</td>\n",
       "      <td>5.33</td>\n",
       "      <td>5.69</td>\n",
       "      <td>0.0280</td>\n",
       "      <td>53.08</td>\n",
       "      <td>7.41</td>\n",
       "      <td>1</td>\n",
       "      <td>0.1041</td>\n",
       "      <td>105.86</td>\n",
       "      <td>0.5531</td>\n",
       "      <td>0.2034</td>\n",
       "      <td>1</td>\n",
       "    </tr>\n",
       "    <tr>\n",
       "      <th>1</th>\n",
       "      <td>Board its rock. Job worker break tonight coupl...</td>\n",
       "      <td>essay</td>\n",
       "      <td>253</td>\n",
       "      <td>1719</td>\n",
       "      <td>45</td>\n",
       "      <td>0.9723</td>\n",
       "      <td>5.62</td>\n",
       "      <td>5.80</td>\n",
       "      <td>0.0262</td>\n",
       "      <td>50.32</td>\n",
       "      <td>8.10</td>\n",
       "      <td>6</td>\n",
       "      <td>0.2045</td>\n",
       "      <td>100.29</td>\n",
       "      <td>0.5643</td>\n",
       "      <td>0.4854</td>\n",
       "      <td>1</td>\n",
       "    </tr>\n",
       "    <tr>\n",
       "      <th>2</th>\n",
       "      <td>Way debate decision produce. Dream necessary c...</td>\n",
       "      <td>academic_paper</td>\n",
       "      <td>420</td>\n",
       "      <td>2849</td>\n",
       "      <td>75</td>\n",
       "      <td>0.9071</td>\n",
       "      <td>5.60</td>\n",
       "      <td>5.79</td>\n",
       "      <td>0.0263</td>\n",
       "      <td>46.86</td>\n",
       "      <td>7.86</td>\n",
       "      <td>5</td>\n",
       "      <td>0.2308</td>\n",
       "      <td>96.88</td>\n",
       "      <td>0.4979</td>\n",
       "      <td>-0.2369</td>\n",
       "      <td>1</td>\n",
       "    </tr>\n",
       "  </tbody>\n",
       "</table>\n",
       "</div>"
      ],
      "text/plain": [
       "                                        text_content    content_type  \\\n",
       "0  Score each cause. Quality throughout beautiful...  academic_paper   \n",
       "1  Board its rock. Job worker break tonight coupl...           essay   \n",
       "2  Way debate decision produce. Dream necessary c...  academic_paper   \n",
       "\n",
       "   word_count  character_count  sentence_count  lexical_diversity  \\\n",
       "0         288             1927              54             0.9514   \n",
       "1         253             1719              45             0.9723   \n",
       "2         420             2849              75             0.9071   \n",
       "\n",
       "   avg_sentence_length  avg_word_length  punctuation_ratio  \\\n",
       "0                 5.33             5.69             0.0280   \n",
       "1                 5.62             5.80             0.0262   \n",
       "2                 5.60             5.79             0.0263   \n",
       "\n",
       "   flesch_reading_ease  gunning_fog_index  grammar_errors  \\\n",
       "0                53.08               7.41               1   \n",
       "1                50.32               8.10               6   \n",
       "2                46.86               7.86               5   \n",
       "\n",
       "   passive_voice_ratio  predictability_score  burstiness  sentiment_score  \\\n",
       "0               0.1041                105.86      0.5531           0.2034   \n",
       "1               0.2045                100.29      0.5643           0.4854   \n",
       "2               0.2308                 96.88      0.4979          -0.2369   \n",
       "\n",
       "   label  \n",
       "0      1  \n",
       "1      1  \n",
       "2      1  "
      ]
     },
     "execution_count": 4,
     "metadata": {},
     "output_type": "execute_result"
    }
   ],
   "source": [
    "df = pd.read_csv(\"ai_human_content_detection_dataset.csv\")\n",
    "print(df.shape)\n",
    "df.head(3)"
   ]
  },
  {
   "cell_type": "code",
   "execution_count": 6,
   "id": "89273c94-e99e-4440-a2b1-fb2081814355",
   "metadata": {},
   "outputs": [
    {
     "name": "stdout",
     "output_type": "stream",
     "text": [
      "Numeric features: ['word_count', 'character_count', 'sentence_count', 'lexical_diversity', 'avg_sentence_length', 'avg_word_length', 'punctuation_ratio', 'flesch_reading_ease', 'gunning_fog_index', 'grammar_errors', 'passive_voice_ratio', 'predictability_score', 'burstiness', 'sentiment_score']\n",
      "Categorical features: ['content_type']\n",
      "Target distribution: 0    0.5\n",
      "1    0.5\n",
      "Name: proportion, dtype: float64\n"
     ]
    }
   ],
   "source": [
    "LABEL_COL = \"label\"\n",
    "CAT_COLS = [\"content_type\"]\n",
    "# all numeric columns except label/text/categorical\n",
    "NUM_COLS = [\n",
    "    c for c in df.columns\n",
    "    if c not in [LABEL_COL, \"text_content\"] + CAT_COLS\n",
    "    and pd.api.types.is_numeric_dtype(df[c])\n",
    "]\n",
    "\n",
    "X = df[NUM_COLS + CAT_COLS].copy()\n",
    "y = df[LABEL_COL].astype(int).values\n",
    "\n",
    "print(\"Numeric features:\", NUM_COLS)\n",
    "print(\"Categorical features:\", CAT_COLS)\n",
    "print(\"Target distribution:\", pd.Series(y).value_counts(normalize=True).round(3))"
   ]
  },
  {
   "cell_type": "code",
   "execution_count": 8,
   "id": "cf5ed953-d336-4dc7-a4ab-3bc99da9e2f0",
   "metadata": {},
   "outputs": [
    {
     "data": {
      "text/plain": [
       "((1093, 15), (274, 15))"
      ]
     },
     "execution_count": 8,
     "metadata": {},
     "output_type": "execute_result"
    }
   ],
   "source": [
    "X_train, X_test, y_train, y_test = train_test_split(\n",
    "    X, y, test_size=0.2, random_state=42, stratify=y\n",
    ")\n",
    "X_train.shape, X_test.shape"
   ]
  },
  {
   "cell_type": "code",
   "execution_count": 10,
   "id": "0021afe8-1706-42fe-8a1f-2f8982dde8dd",
   "metadata": {},
   "outputs": [
    {
     "data": {
      "text/plain": [
       "(21,\n",
       " ['word_count',\n",
       "  'character_count',\n",
       "  'sentence_count',\n",
       "  'lexical_diversity',\n",
       "  'avg_sentence_length'])"
      ]
     },
     "execution_count": 10,
     "metadata": {},
     "output_type": "execute_result"
    }
   ],
   "source": [
    "preprocessor = ColumnTransformer(\n",
    "    transformers=[\n",
    "        (\"num\", StandardScaler(), NUM_COLS),\n",
    "        (\"cat\", OneHotEncoder(drop=\"first\", handle_unknown=\"ignore\"), CAT_COLS),\n",
    "    ],\n",
    "    remainder=\"drop\"\n",
    ")\n",
    "\n",
    "# Fit on training data only, then transform both train/test\n",
    "preprocessor.fit(X_train)\n",
    "Xtr = preprocessor.transform(X_train)\n",
    "Xte = preprocessor.transform(X_test)\n",
    "\n",
    "# Get feature names after transformation for plotting importances later\n",
    "num_names = NUM_COLS\n",
    "cat_names = preprocessor.named_transformers_[\"cat\"].get_feature_names_out(CAT_COLS).tolist()\n",
    "feature_names = list(num_names) + list(cat_names)\n",
    "len(feature_names), feature_names[:5]"
   ]
  },
  {
   "cell_type": "code",
   "execution_count": 16,
   "id": "086f55be-a4bd-4daf-8ef0-c1d16c22e271",
   "metadata": {},
   "outputs": [],
   "source": [
    "from sklearn.impute import SimpleImputer\n",
    "\n",
    "# 1. Create imputer to fill NaNs with 0\n",
    "imputer = SimpleImputer(strategy=\"constant\", fill_value=0)\n",
    "\n",
    "# 2. Fit the imputer on training data, transform both train and test\n",
    "Xtr = imputer.fit_transform(Xtr)\n",
    "Xte = imputer.transform(Xte)\n",
    "\n",
    "# 3. Fit each model on the cleaned data\n",
    "fitted = {}\n",
    "for name, model in models.items():\n",
    "    model.fit(Xtr, y_train)\n",
    "    fitted[name] = model"
   ]
  },
  {
   "cell_type": "code",
   "execution_count": 17,
   "id": "6cf04cca-1db7-482c-b580-ff96e05f1848",
   "metadata": {},
   "outputs": [
    {
     "name": "stdout",
     "output_type": "stream",
     "text": [
      "\n",
      "=== LogisticRegression ===\n",
      "Accuracy: 0.5\n",
      "              precision    recall  f1-score   support\n",
      "\n",
      "           0      0.500     0.511     0.505       137\n",
      "           1      0.500     0.489     0.494       137\n",
      "\n",
      "    accuracy                          0.500       274\n",
      "   macro avg      0.500     0.500     0.500       274\n",
      "weighted avg      0.500     0.500     0.500       274\n",
      "\n",
      "\n",
      "=== RandomForest ===\n",
      "Accuracy: 0.5073\n",
      "              precision    recall  f1-score   support\n",
      "\n",
      "           0      0.506     0.599     0.548       137\n",
      "           1      0.509     0.416     0.458       137\n",
      "\n",
      "    accuracy                          0.507       274\n",
      "   macro avg      0.508     0.507     0.503       274\n",
      "weighted avg      0.508     0.507     0.503       274\n",
      "\n",
      "\n",
      "=== XGBoost ===\n",
      "Accuracy: 0.5182\n",
      "              precision    recall  f1-score   support\n",
      "\n",
      "           0      0.516     0.577     0.545       137\n",
      "           1      0.521     0.460     0.488       137\n",
      "\n",
      "    accuracy                          0.518       274\n",
      "   macro avg      0.519     0.518     0.517       274\n",
      "weighted avg      0.519     0.518     0.517       274\n",
      "\n"
     ]
    },
    {
     "data": {
      "text/html": [
       "<div>\n",
       "<style scoped>\n",
       "    .dataframe tbody tr th:only-of-type {\n",
       "        vertical-align: middle;\n",
       "    }\n",
       "\n",
       "    .dataframe tbody tr th {\n",
       "        vertical-align: top;\n",
       "    }\n",
       "\n",
       "    .dataframe thead th {\n",
       "        text-align: right;\n",
       "    }\n",
       "</style>\n",
       "<table border=\"1\" class=\"dataframe\">\n",
       "  <thead>\n",
       "    <tr style=\"text-align: right;\">\n",
       "      <th></th>\n",
       "      <th>Model</th>\n",
       "      <th>Accuracy</th>\n",
       "      <th>Precision</th>\n",
       "      <th>Recall</th>\n",
       "      <th>F1</th>\n",
       "    </tr>\n",
       "  </thead>\n",
       "  <tbody>\n",
       "    <tr>\n",
       "      <th>2</th>\n",
       "      <td>XGBoost</td>\n",
       "      <td>0.518248</td>\n",
       "      <td>0.520661</td>\n",
       "      <td>0.459854</td>\n",
       "      <td>0.488372</td>\n",
       "    </tr>\n",
       "    <tr>\n",
       "      <th>1</th>\n",
       "      <td>RandomForest</td>\n",
       "      <td>0.507299</td>\n",
       "      <td>0.508929</td>\n",
       "      <td>0.416058</td>\n",
       "      <td>0.457831</td>\n",
       "    </tr>\n",
       "    <tr>\n",
       "      <th>0</th>\n",
       "      <td>LogisticRegression</td>\n",
       "      <td>0.500000</td>\n",
       "      <td>0.500000</td>\n",
       "      <td>0.489051</td>\n",
       "      <td>0.494465</td>\n",
       "    </tr>\n",
       "  </tbody>\n",
       "</table>\n",
       "</div>"
      ],
      "text/plain": [
       "                Model  Accuracy  Precision    Recall        F1\n",
       "2             XGBoost  0.518248   0.520661  0.459854  0.488372\n",
       "1        RandomForest  0.507299   0.508929  0.416058  0.457831\n",
       "0  LogisticRegression  0.500000   0.500000  0.489051  0.494465"
      ]
     },
     "execution_count": 17,
     "metadata": {},
     "output_type": "execute_result"
    }
   ],
   "source": [
    "rows = []\n",
    "for name, model in fitted.items():\n",
    "    pred = model.predict(Xte)\n",
    "    acc = accuracy_score(y_test, pred)\n",
    "    prec = precision_score(y_test, pred, zero_division=0)\n",
    "    rec = recall_score(y_test, pred, zero_division=0)\n",
    "    f1 = f1_score(y_test, pred, zero_division=0)\n",
    "    rows.append([name, acc, prec, rec, f1])\n",
    "    print(f\"\\n=== {name} ===\")\n",
    "    print(\"Accuracy:\", round(acc, 4))\n",
    "    print(classification_report(y_test, pred, digits=3))\n",
    "\n",
    "metrics_df = pd.DataFrame(rows, columns=[\"Model\",\"Accuracy\",\"Precision\",\"Recall\",\"F1\"])\n",
    "metrics_df.sort_values(\"Accuracy\", ascending=False, inplace=True)\n",
    "metrics_df"
   ]
  },
  {
   "cell_type": "code",
   "execution_count": 20,
   "id": "d2f4f281-ac98-4265-81d4-f885fe343704",
   "metadata": {},
   "outputs": [
    {
     "data": {
      "text/html": [
       "<div>\n",
       "<style scoped>\n",
       "    .dataframe tbody tr th:only-of-type {\n",
       "        vertical-align: middle;\n",
       "    }\n",
       "\n",
       "    .dataframe tbody tr th {\n",
       "        vertical-align: top;\n",
       "    }\n",
       "\n",
       "    .dataframe thead th {\n",
       "        text-align: right;\n",
       "    }\n",
       "</style>\n",
       "<table border=\"1\" class=\"dataframe\">\n",
       "  <thead>\n",
       "    <tr style=\"text-align: right;\">\n",
       "      <th></th>\n",
       "      <th>Model</th>\n",
       "      <th>Accuracy</th>\n",
       "      <th>Precision</th>\n",
       "      <th>Recall</th>\n",
       "      <th>F1</th>\n",
       "    </tr>\n",
       "  </thead>\n",
       "  <tbody>\n",
       "    <tr>\n",
       "      <th>2</th>\n",
       "      <td>XGBoost</td>\n",
       "      <td>0.518248</td>\n",
       "      <td>0.520661</td>\n",
       "      <td>0.459854</td>\n",
       "      <td>0.488372</td>\n",
       "    </tr>\n",
       "    <tr>\n",
       "      <th>1</th>\n",
       "      <td>RandomForest</td>\n",
       "      <td>0.507299</td>\n",
       "      <td>0.508929</td>\n",
       "      <td>0.416058</td>\n",
       "      <td>0.457831</td>\n",
       "    </tr>\n",
       "    <tr>\n",
       "      <th>0</th>\n",
       "      <td>LogisticRegression</td>\n",
       "      <td>0.500000</td>\n",
       "      <td>0.500000</td>\n",
       "      <td>0.489051</td>\n",
       "      <td>0.494465</td>\n",
       "    </tr>\n",
       "  </tbody>\n",
       "</table>\n",
       "</div>"
      ],
      "text/plain": [
       "                Model  Accuracy  Precision    Recall        F1\n",
       "2             XGBoost  0.518248   0.520661  0.459854  0.488372\n",
       "1        RandomForest  0.507299   0.508929  0.416058  0.457831\n",
       "0  LogisticRegression  0.500000   0.500000  0.489051  0.494465"
      ]
     },
     "execution_count": 20,
     "metadata": {},
     "output_type": "execute_result"
    }
   ],
   "source": [
    "metrics_df.to_csv(\"model_metrics.csv\", index=False)\n",
    "metrics_df"
   ]
  },
  {
   "cell_type": "code",
   "execution_count": 22,
   "id": "17734d76-c1aa-4539-895c-d82953f48385",
   "metadata": {},
   "outputs": [
    {
     "data": {
      "image/png": "[encoded data removed]",
      "text/plain": [
       "<Figure size 450x400 with 1 Axes>"
      ]
     },
     "metadata": {},
     "output_type": "display_data"
    }
   ],
   "source": [
    "best_name = metrics_df.iloc[0][\"Model\"]\n",
    "best_model = fitted[best_name]\n",
    "best_pred = best_model.predict(Xte)\n",
    "\n",
    "cm = confusion_matrix(y_test, best_pred)\n",
    "plt.figure(figsize=(4.5,4))\n",
    "sns.heatmap(cm, annot=True, fmt=\"d\", cbar=False)\n",
    "plt.title(f\"Confusion Matrix — {best_name}\")\n",
    "plt.xlabel(\"Predicted\"); plt.ylabel(\"Actual\")\n",
    "plt.tight_layout(); plt.savefig(\"figures/confusion_matrix.png\", dpi=150)\n",
    "plt.show()"
   ]
  },
  {
   "cell_type": "code",
   "execution_count": 24,
   "id": "6d901c0f-de16-47ad-b2aa-3b5e9bbf2fa1",
   "metadata": {},
   "outputs": [
    {
     "data": {
      "image/png": "[encoded data removed]",
      "text/plain": [
       "<Figure size 600x400 with 1 Axes>"
      ]
     },
     "metadata": {},
     "output_type": "display_data"
    }
   ],
   "source": [
    "plt.figure(figsize=(6,4))\n",
    "plt.bar(metrics_df[\"Model\"], metrics_df[\"Accuracy\"])\n",
    "plt.ylabel(\"Accuracy\")\n",
    "plt.title(\"Model Accuracy Comparison\")\n",
    "plt.tight_layout(); plt.savefig(\"figures/model_accuracy.png\", dpi=150)\n",
    "plt.show()"
   ]
  },
  {
   "cell_type": "code",
   "execution_count": 26,
   "id": "fb4b0a8a-badf-4bc2-a11e-eddec13e3abc",
   "metadata": {},
   "outputs": [
    {
     "data": {
      "image/png": "[encoded data removed]",
      "text/plain": [
       "<Figure size 700x400 with 1 Axes>"
      ]
     },
     "metadata": {},
     "output_type": "display_data"
    }
   ],
   "source": [
    "imp_model_name = \"XGBoost\" if \"XGBoost\" in fitted else \"RandomForest\"\n",
    "imp_model = fitted[imp_model_name]\n",
    "\n",
    "# Pull importances safely\n",
    "if hasattr(imp_model, \"feature_importances_\"):\n",
    "    importances = imp_model.feature_importances_\n",
    "    imp_df = pd.DataFrame({\"feature\": feature_names, \"importance\": importances})\n",
    "    imp_df = imp_df.sort_values(\"importance\", ascending=False).head(10)\n",
    "\n",
    "    plt.figure(figsize=(7,4))\n",
    "    plt.barh(imp_df[\"feature\"][::-1], imp_df[\"importance\"][::-1])\n",
    "    plt.xlabel(\"Importance\")\n",
    "    plt.title(f\"Top 10 Feature Importances — {imp_model_name}\")\n",
    "    plt.tight_layout(); plt.savefig(\"figures/feature_importance_top10.png\", dpi=150)\n",
    "    plt.show()\n",
    "\n",
    "    imp_df\n",
    "else:\n",
    "    print(f\"{imp_model_name} does not expose feature_importances_.\")"
   ]
  },
  {
   "cell_type": "code",
   "execution_count": 28,
   "id": "991ba192-659b-4b50-9962-588e75dac855",
   "metadata": {},
   "outputs": [
    {
     "name": "stdout",
     "output_type": "stream",
     "text": [
      "Saved final_model_bundle.joblib with preprocessor + best model: XGBoost\n",
      "Conclusion: Using only structured writing metrics and content type (no raw text), XGBoost achieved the best accuracy on the test set. This shows statistical writing features alone can effectively flag AI vs human content.\n"
     ]
    }
   ],
   "source": [
    "joblib.dump({\n",
    "    \"preprocessor\": preprocessor,\n",
    "    \"best_model_name\": best_name,\n",
    "    \"best_model\": best_model\n",
    "}, \"final_model_bundle.joblib\")\n",
    "\n",
    "print(f\"Saved final_model_bundle.joblib with preprocessor + best model: {best_name}\")\n",
    "\n",
    "conclusion = (\n",
    "    \"Conclusion: Using only structured writing metrics and content type (no raw text), \"\n",
    "    f\"{best_name} achieved the best accuracy on the test set. \"\n",
    "    \"This shows statistical writing features alone can effectively flag AI vs human content.\"\n",
    ")\n",
    "print(conclusion)"
   ]
  },
  {
   "cell_type": "code",
   "execution_count": null,
   "id": "e91514cf-413f-41b7-ace1-99b3cca269cb",
   "metadata": {},
   "outputs": [],
   "source": []
  }
 ],
 "metadata": {
  "kernelspec": {
   "display_name": "Python [conda env:base] *",
   "language": "python",
   "name": "conda-base-py"
  },
  "language_info": {
   "codemirror_mode": {
    "name": "ipython",
    "version": 3
   },
   "file_extension": ".py",
   "mimetype": "text/x-python",
   "name": "python",
   "nbconvert_exporter": "python",
   "pygments_lexer": "ipython3",
   "version": "3.12.7"
  }
 },
 "nbformat": 4,
 "nbformat_minor": 5
}
